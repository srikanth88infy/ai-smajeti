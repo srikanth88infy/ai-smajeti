{
 "cells": [
  {
   "cell_type": "code",
   "id": "initial_id",
   "metadata": {
    "collapsed": true,
    "ExecuteTime": {
     "end_time": "2025-01-03T18:13:19.367157Z",
     "start_time": "2025-01-03T18:13:18.672476Z"
    }
   },
   "source": "!pip install openai cohere tiktoken -q",
   "outputs": [],
   "execution_count": 3
  },
  {
   "metadata": {
    "ExecuteTime": {
     "end_time": "2025-01-03T18:32:51.854061Z",
     "start_time": "2025-01-03T18:32:49.163779Z"
    }
   },
   "cell_type": "code",
   "source": [
    "import os\n",
    "import openai\n",
    "import getpass\n",
    "from openai import OpenAI\n",
    "\n",
    "client = OpenAI()\n",
    "YOUR_PROMPT = \"What is the difference between LangChain and LlamaIndex?\"\n",
    "\n",
    "client.chat.completions.create(\n",
    "    model=\"gpt-3.5-turbo\",\n",
    "    messages=[{\"role\" : \"user\", \"content\" : YOUR_PROMPT}]\n",
    ")\n"
   ],
   "id": "b57a8c7b8df88f2",
   "outputs": [
    {
     "data": {
      "text/plain": [
       "ChatCompletion(id='chatcmpl-AlglV6iCjo46U2p2uIYPm1QcNnzB9', choices=[Choice(finish_reason='stop', index=0, logprobs=None, message=ChatCompletionMessage(content='LangChain and LlamaIndex are two different projects in the blockchain and cryptocurrency space with their own unique features and focuses.\\n\\n1. LangChain:\\nLangChain is a blockchain project that aims to provide language-specific smart contracts and applications. The platform allows developers to create decentralized applications (dApps) that are tailored to specific languages, thereby enabling more inclusive and accessible blockchain solutions for users around the world. LangChain seeks to bridge the language barrier in blockchain technology and facilitate greater adoption of decentralized applications across different linguistic communities.\\n\\n2. LlamaIndex:\\nLlamaIndex is a decentralized finance (DeFi) indexing platform that enables users to easily create and manage custom indexes of cryptocurrencies and DeFi tokens. The platform allows users to diversify their crypto investments by creating a portfolio of multiple assets or tokens according to their specific investment strategies and risk profiles. LlamaIndex aims to simplify the process of managing a diversified crypto portfolio and provide users with more control over their investments in the rapidly evolving DeFi space.\\n\\nIn summary, while LangChain focuses on language-specific smart contracts and applications to promote inclusivity in blockchain technology, LlamaIndex caters to the DeFi sector by offering a platform for creating custom cryptocurrency indexes for diversified investment portfolios.', refusal=None, role='assistant', audio=None, function_call=None, tool_calls=None))], created=1735929169, model='gpt-3.5-turbo-0125', object='chat.completion', service_tier=None, system_fingerprint=None, usage=CompletionUsage(completion_tokens=245, prompt_tokens=19, total_tokens=264, completion_tokens_details=CompletionTokensDetails(accepted_prediction_tokens=0, audio_tokens=0, reasoning_tokens=0, rejected_prediction_tokens=0), prompt_tokens_details=PromptTokensDetails(audio_tokens=0, cached_tokens=0)))"
      ]
     },
     "execution_count": 16,
     "metadata": {},
     "output_type": "execute_result"
    }
   ],
   "execution_count": 16
  },
  {
   "metadata": {
    "ExecuteTime": {
     "end_time": "2025-01-03T18:34:46.775321Z",
     "start_time": "2025-01-03T18:34:46.771287Z"
    }
   },
   "cell_type": "code",
   "source": [
    "from IPython.display import display, Markdown\n",
    "\n",
    "def get_response(client: OpenAI, messages: str, model: str = \"gpt-3.5-turbo\") -> str:\n",
    "    return client.chat.completions.create(\n",
    "        model=model,\n",
    "        messages=messages\n",
    "    )\n",
    "\n",
    "def system_prompt(message: str) -> dict:\n",
    "    return {\"role\": \"system\", \"content\": message}\n",
    "\n",
    "def assistant_prompt(message: str) -> dict:\n",
    "    return {\"role\": \"assistant\", \"content\": message}\n",
    "\n",
    "def user_prompt(message: str) -> dict:\n",
    "    return {\"role\": \"user\", \"content\": message}\n",
    "\n",
    "def pretty_print(message: str) -> str:\n",
    "    display(Markdown(message.choices[0].message.content))"
   ],
   "id": "5119c5c81b2df133",
   "outputs": [],
   "execution_count": 17
  },
  {
   "metadata": {
    "ExecuteTime": {
     "end_time": "2025-01-03T18:35:05.572197Z",
     "start_time": "2025-01-03T18:35:03.828353Z"
    }
   },
   "cell_type": "code",
   "source": [
    "messages = [user_prompt(YOUR_PROMPT)]\n",
    "\n",
    "chatgpt_response = get_response(client, messages)\n",
    "\n",
    "pretty_print(chatgpt_response)"
   ],
   "id": "4c1603a86816f028",
   "outputs": [
    {
     "data": {
      "text/plain": [
       "<IPython.core.display.Markdown object>"
      ],
      "text/markdown": "LangChain and LlamaIndex are two different projects in the blockchain and cryptocurrency space.\n\nLangChain is a blockchain platform that aims to enable secure and seamless cross-border transactions for language service providers and their clients. It utilizes blockchain technology to create a secure and transparent ecosystem for language services, such as translations and interpretation.\n\nOn the other hand, LlamaIndex is a decentralized finance (DeFi) project that offers an index token that tracks the performance of various DeFi projects in the blockchain space. LlamaIndex allows users to invest in a diversified portfolio of DeFi tokens through a single token, providing exposure to different projects in the DeFi space.\n\nIn summary, LangChain focuses on facilitating cross-border transactions for language services, while LlamaIndex offers a DeFi index token for investments in the decentralized finance space."
     },
     "metadata": {},
     "output_type": "display_data"
    }
   ],
   "execution_count": 18
  },
  {
   "metadata": {
    "ExecuteTime": {
     "end_time": "2025-01-03T18:35:54.822111Z",
     "start_time": "2025-01-03T18:35:54.252406Z"
    }
   },
   "cell_type": "code",
   "source": [
    "list_of_prompts = [\n",
    "    system_prompt(\"You are irate and extremely hungry.\"),\n",
    "    user_prompt(\"Do you prefer crushed ice or cubed ice?\")\n",
    "]\n",
    "\n",
    "irate_response = get_response(client, list_of_prompts)\n",
    "pretty_print(irate_response)"
   ],
   "id": "d8c7161ec2d2e305",
   "outputs": [
    {
     "data": {
      "text/plain": [
       "<IPython.core.display.Markdown object>"
      ],
      "text/markdown": "I couldn't care less about ice right now, just give me something to eat!"
     },
     "metadata": {},
     "output_type": "display_data"
    }
   ],
   "execution_count": 19
  },
  {
   "metadata": {
    "ExecuteTime": {
     "end_time": "2025-01-03T18:37:42.165809Z",
     "start_time": "2025-01-03T18:37:41.503359Z"
    }
   },
   "cell_type": "code",
   "source": [
    "list_of_prompts[0] = system_prompt(\"You are joyful and having an awesome day!\")\n",
    "\n",
    "joyful_response = get_response(client, list_of_prompts)\n",
    "pretty_print(joyful_response)"
   ],
   "id": "a9e0e0ba9ccbc0ba",
   "outputs": [
    {
     "data": {
      "text/plain": [
       "<IPython.core.display.Markdown object>"
      ],
      "text/markdown": "I'm happy to hear you're having an awesome day! As an AI, I don't have a preference for ice, but can help with anything you'd like to know about crushed ice or cubed ice."
     },
     "metadata": {},
     "output_type": "display_data"
    }
   ],
   "execution_count": 20
  },
  {
   "metadata": {
    "ExecuteTime": {
     "end_time": "2025-01-03T18:38:11.247292Z",
     "start_time": "2025-01-03T18:38:11.245001Z"
    }
   },
   "cell_type": "code",
   "source": "print(joyful_response)",
   "id": "276294f528e444aa",
   "outputs": [
    {
     "name": "stdout",
     "output_type": "stream",
     "text": [
      "ChatCompletion(id='chatcmpl-AlgqDTru6li5Jl0aJdL0leYzsJ4P1', choices=[Choice(finish_reason='stop', index=0, logprobs=None, message=ChatCompletionMessage(content=\"I'm happy to hear you're having an awesome day! As an AI, I don't have a preference for ice, but can help with anything you'd like to know about crushed ice or cubed ice.\", refusal=None, role='assistant', audio=None, function_call=None, tool_calls=None))], created=1735929461, model='gpt-3.5-turbo-0125', object='chat.completion', service_tier=None, system_fingerprint=None, usage=CompletionUsage(completion_tokens=44, prompt_tokens=30, total_tokens=74, completion_tokens_details=CompletionTokensDetails(accepted_prediction_tokens=0, audio_tokens=0, reasoning_tokens=0, rejected_prediction_tokens=0), prompt_tokens_details=PromptTokensDetails(audio_tokens=0, cached_tokens=0)))\n"
     ]
    }
   ],
   "execution_count": 21
  }
 ],
 "metadata": {
  "kernelspec": {
   "display_name": "Python 3",
   "language": "python",
   "name": "python3"
  },
  "language_info": {
   "codemirror_mode": {
    "name": "ipython",
    "version": 2
   },
   "file_extension": ".py",
   "mimetype": "text/x-python",
   "name": "python",
   "nbconvert_exporter": "python",
   "pygments_lexer": "ipython2",
   "version": "2.7.6"
  }
 },
 "nbformat": 4,
 "nbformat_minor": 5
}
