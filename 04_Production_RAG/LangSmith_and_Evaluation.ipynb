{
 "cells": [
  {
   "cell_type": "markdown",
   "metadata": {
    "id": "Fa_QpI0RXQKx"
   },
   "source": [
    "# LangSmith and Evaluation Overview with AI Makerspace\n",
    "\n",
    "Today we'll be looking at an amazing tool:\n",
    "\n",
    "[LangSmith](https://docs.smith.langchain.com/)!\n",
    "\n",
    "This tool will help us monitor, test, debug, and evaluate our LangChain applications - and more!\n",
    "\n",
    "We'll also be looking at a few Advanced Retrieval techniques along the way - and evaluate it using LangSmith!\n",
    "\n",
    "✋BREAKOUT ROOM #2:\n",
    "- Task 1: Dependencies and OpenAI API Key\n",
    "- Task 2: LCEL RAG Chain\n",
    "- Task 3: Setting Up LangSmith\n",
    "- Task 4: Examining the Trace in LangSmith!\n",
    "- Task 5: Create Testing Dataset\n",
    "- Task 6: Evaluation"
   ]
  },
  {
   "cell_type": "markdown",
   "metadata": {
    "id": "tw5ok9p-XuUs"
   },
   "source": [
    "## Task 1: Dependencies and OpenAI API Key\n",
    "\n",
    "We'll be using OpenAI's suite of models today to help us generate and embed our documents for a simple RAG system built on top of LangChain's blogs!"
   ]
  },
  {
   "cell_type": "code",
   "metadata": {
    "colab": {
     "base_uri": "https://localhost:8080/"
    },
    "id": "jhSjB1O6-Y0J",
    "outputId": "1f43fdba-f1b4-4cf4-b8b0-3469edc29c80",
    "ExecuteTime": {
     "end_time": "2025-01-28T15:43:42.933724Z",
     "start_time": "2025-01-28T15:43:10.692143Z"
    }
   },
   "source": "!pip install langchain_core langchain_openai langchain_community langchain-qdrant qdrant-client langsmith openai tiktoken cohere lxml -qU",
   "outputs": [],
   "execution_count": 1
  },
  {
   "cell_type": "code",
   "metadata": {
    "colab": {
     "base_uri": "https://localhost:8080/"
    },
    "id": "ADl8-whIAUHD",
    "outputId": "927fd78b-8510-4bea-9e68-a3c74d3eb5a1",
    "ExecuteTime": {
     "end_time": "2025-01-28T15:46:00.120070Z",
     "start_time": "2025-01-28T15:45:58.210491Z"
    }
   },
   "source": [
    "import os\n",
    "import getpass\n",
    "\n",
    "os.environ[\"OPENAI_API_KEY\"] = getpass.getpass(\"Enter your OpenAI API Key:\")"
   ],
   "outputs": [],
   "execution_count": 2
  },
  {
   "cell_type": "markdown",
   "metadata": {
    "id": "923xinz42sWV"
   },
   "source": [
    "#### Asyncio Bug Handling\n",
    "\n",
    "This is necessary for Colab."
   ]
  },
  {
   "cell_type": "code",
   "metadata": {
    "id": "m9U0SbQN2sWc",
    "ExecuteTime": {
     "end_time": "2025-01-28T15:46:04.882104Z",
     "start_time": "2025-01-28T15:46:04.876805Z"
    }
   },
   "source": [
    "import nest_asyncio\n",
    "nest_asyncio.apply()"
   ],
   "outputs": [],
   "execution_count": 3
  },
  {
   "cell_type": "markdown",
   "metadata": {
    "id": "Cx2AOb-QHwJm"
   },
   "source": [
    "## Task #2: Create a Simple RAG Application Using Qdrant, Hugging Face, and LCEL\n",
    "\n",
    "Now that we have a grasp on how LCEL works, and how we can use LangChain and Hugging Face to interact with our data - let's step it up a notch and incorporate Qdrant!"
   ]
  },
  {
   "cell_type": "markdown",
   "metadata": {
    "id": "XYJB3IxEwpnh"
   },
   "source": [
    "## LangChain Powered RAG\n",
    "\n",
    "First and foremost, LangChain provides a convenient way to store our chunks and their embeddings.\n",
    "\n",
    "It's called a `VectorStore`!\n",
    "\n",
    "We'll be using QDrant as our `VectorStore` today. You can read more about it [here](https://qdrant.tech/documentation/).\n",
    "\n",
    "Think of a `VectorStore` as a smart way to house your chunks and their associated embedding vectors. The implementation of the `VectorStore` also allows for smarter and more efficient search of our embedding vectors - as the method we used above would not scale well as we got into the millions of chunks.\n",
    "\n",
    "Otherwise, the process remains relatively similar under the hood!\n",
    "\n",
    "We'll use a SiteMapLoader to scrape the LangChain blogs - which will serve as our data for today!"
   ]
  },
  {
   "cell_type": "markdown",
   "metadata": {
    "id": "pBErqPRgxgZR"
   },
   "source": [
    "### Data Collection\n",
    "\n",
    "We'll be leveraging the `SitemapLoader` to load our PDF directly from the web!"
   ]
  },
  {
   "cell_type": "code",
   "metadata": {
    "colab": {
     "base_uri": "https://localhost:8080/"
    },
    "id": "-AHA9L3Jxo3r",
    "outputId": "c3535941-ce13-4ddd-ef08-b6b4ab1e507b",
    "ExecuteTime": {
     "end_time": "2025-01-28T15:47:58.433977Z",
     "start_time": "2025-01-28T15:47:33.177678Z"
    }
   },
   "source": [
    "from langchain.document_loaders import SitemapLoader\n",
    "\n",
    "documents = SitemapLoader(web_path=\"https://blog.langchain.dev/sitemap-posts.xml\").load()"
   ],
   "outputs": [
    {
     "name": "stderr",
     "output_type": "stream",
     "text": [
      "USER_AGENT environment variable not set, consider setting it to identify your requests.\n",
      "Fetching pages: 100%|##########| 261/261 [00:20<00:00, 12.50it/s]\n"
     ]
    }
   ],
   "execution_count": 4
  },
  {
   "cell_type": "markdown",
   "metadata": {
    "id": "uH7ZPVJLx6Cn"
   },
   "source": [
    "### Chunking Our Documents"
   ]
  },
  {
   "cell_type": "markdown",
   "metadata": {
    "id": "NsSCRQUSyBKT"
   },
   "source": [
    "Let's do the same process as we did before with our `RecursiveCharacterTextSplitter` - but this time we'll use ~200 tokens as our max chunk size!"
   ]
  },
  {
   "cell_type": "code",
   "metadata": {
    "id": "SzolG1FLx2f_",
    "ExecuteTime": {
     "end_time": "2025-01-28T15:48:07.642756Z",
     "start_time": "2025-01-28T15:48:07.448965Z"
    }
   },
   "source": [
    "from langchain.text_splitter import RecursiveCharacterTextSplitter\n",
    "\n",
    "text_splitter = RecursiveCharacterTextSplitter(\n",
    "    chunk_size = 500,\n",
    "    chunk_overlap = 0,\n",
    "    length_function = len,\n",
    ")\n",
    "\n",
    "split_chunks = text_splitter.split_documents(documents)"
   ],
   "outputs": [],
   "execution_count": 5
  },
  {
   "cell_type": "code",
   "metadata": {
    "colab": {
     "base_uri": "https://localhost:8080/"
    },
    "id": "fpV4f1eXyXVJ",
    "outputId": "a666d551-6b20-4761-82ad-6f9b524d1660",
    "ExecuteTime": {
     "end_time": "2025-01-28T15:48:09.789258Z",
     "start_time": "2025-01-28T15:48:09.785564Z"
    }
   },
   "source": [
    "len(split_chunks)"
   ],
   "outputs": [
    {
     "data": {
      "text/plain": [
       "5585"
      ]
     },
     "execution_count": 6,
     "metadata": {},
     "output_type": "execute_result"
    }
   ],
   "execution_count": 6
  },
  {
   "cell_type": "markdown",
   "metadata": {
    "id": "YTJ60Ck6ybe_"
   },
   "source": [
    "Alright, now we have 516 ~200 token long documents.\n",
    "\n",
    "Let's verify the process worked as intended by checking our max document length."
   ]
  },
  {
   "cell_type": "code",
   "metadata": {
    "colab": {
     "base_uri": "https://localhost:8080/"
    },
    "id": "950mB338yZR8",
    "outputId": "9813bfb9-cf80-4787-c962-69a5b1ccdff6",
    "ExecuteTime": {
     "end_time": "2025-01-28T15:48:25.209855Z",
     "start_time": "2025-01-28T15:48:25.206109Z"
    }
   },
   "source": [
    "max_chunk_length = 0\n",
    "\n",
    "for chunk in split_chunks:\n",
    "  max_chunk_length = max(max_chunk_length, len(chunk.page_content))\n",
    "\n",
    "print(max_chunk_length)"
   ],
   "outputs": [
    {
     "name": "stdout",
     "output_type": "stream",
     "text": [
      "499\n"
     ]
    }
   ],
   "execution_count": 7
  },
  {
   "cell_type": "markdown",
   "metadata": {
    "id": "TDt3RufQy1cP"
   },
   "source": [
    "Perfect! Now we can carry on to creating and storing our embeddings."
   ]
  },
  {
   "cell_type": "markdown",
   "metadata": {
    "id": "kocCe4zLy5qT"
   },
   "source": [
    "### Embeddings and Vector Storage\n",
    "\n",
    "We'll use the `text-embedding-3-small` embedding model again - and `Qdrant` to store all our embedding vectors for easy retrieval later!"
   ]
  },
  {
   "cell_type": "code",
   "metadata": {
    "id": "7M0X1eVlWPFf",
    "ExecuteTime": {
     "end_time": "2025-01-28T15:50:07.665697Z",
     "start_time": "2025-01-28T15:48:33.489680Z"
    }
   },
   "source": [
    "from langchain_community.vectorstores import Qdrant\n",
    "from langchain_openai.embeddings import OpenAIEmbeddings\n",
    "\n",
    "embedding_model = OpenAIEmbeddings(model=\"text-embedding-3-small\")\n",
    "\n",
    "qdrant_vectorstore = Qdrant.from_documents(\n",
    "    documents=split_chunks,\n",
    "    embedding=embedding_model,\n",
    "    location=\":memory:\"\n",
    ")"
   ],
   "outputs": [],
   "execution_count": 8
  },
  {
   "cell_type": "markdown",
   "metadata": {
    "id": "d-NDvjfzXhVp"
   },
   "source": [
    "Now let's set up our retriever, just as we saw before, but this time using LangChain's simple `as_retriever()` method!"
   ]
  },
  {
   "cell_type": "code",
   "metadata": {
    "id": "Edjx19YBXavZ",
    "ExecuteTime": {
     "end_time": "2025-01-28T15:50:50.130009Z",
     "start_time": "2025-01-28T15:50:50.127944Z"
    }
   },
   "source": [
    "qdrant_retriever = qdrant_vectorstore.as_retriever()"
   ],
   "outputs": [],
   "execution_count": 9
  },
  {
   "cell_type": "markdown",
   "metadata": {
    "id": "B1OM0DiYcOj-"
   },
   "source": [
    "#### Back to the Flow"
   ]
  },
  {
   "cell_type": "markdown",
   "metadata": {
    "id": "J7apXaEBzQai"
   },
   "source": [
    "We're ready to move to the next step!"
   ]
  },
  {
   "cell_type": "markdown",
   "metadata": {
    "id": "xMhcU37dzV5k"
   },
   "source": [
    "### Setting up our RAG\n",
    "\n",
    "We'll use the LCEL we touched on earlier to create a RAG chain.\n",
    "\n",
    "Let's think through each part:\n",
    "\n",
    "1. First we need to retrieve context\n",
    "2. We need to pipe that context to our model\n",
    "3. We need to parse that output\n",
    "\n",
    "Let's start by setting up our prompt again, just so it's fresh in our minds!"
   ]
  },
  {
   "cell_type": "markdown",
   "metadata": {
    "id": "oatgDa7cOXWV"
   },
   "source": [
    "####🏗️ Activity #2:\n",
    "\n",
    "Complete the prompt so that your RAG application answers queries based on the context provided, but *does not* answer queries if the context is unrelated to the query."
   ]
  },
  {
   "cell_type": "code",
   "metadata": {
    "id": "TE5tick_YPJj",
    "ExecuteTime": {
     "end_time": "2025-01-28T15:54:27.614992Z",
     "start_time": "2025-01-28T15:54:27.609756Z"
    }
   },
   "source": [
    "from langchain.prompts import ChatPromptTemplate\n",
    "\n",
    "base_rag_prompt_template = \"\"\"\\\n",
    "Use the provided context to answer the provided user question. Only use the provided context to answer the question. If you do not know the answer, response with \"I don't know\"\n",
    "\n",
    "Context:\n",
    "{context}\n",
    "\n",
    "Question:\n",
    "{question}\n",
    "\"\"\"\n",
    "\n",
    "base_rag_prompt = ChatPromptTemplate.from_template(base_rag_prompt_template)"
   ],
   "outputs": [],
   "execution_count": 10
  },
  {
   "cell_type": "markdown",
   "metadata": {
    "id": "DI2tNXIT1iuB"
   },
   "source": [
    "We'll set our Generator - `gpt-4o` in this case - below!"
   ]
  },
  {
   "cell_type": "code",
   "metadata": {
    "id": "rZ-9gF1x1iEz",
    "ExecuteTime": {
     "end_time": "2025-01-28T15:54:31.433083Z",
     "start_time": "2025-01-28T15:54:31.418067Z"
    }
   },
   "source": [
    "from langchain_openai.chat_models import ChatOpenAI\n",
    "\n",
    "base_llm = ChatOpenAI(model=\"gpt-4o-mini\", tags=[\"base_llm\"])"
   ],
   "outputs": [],
   "execution_count": 11
  },
  {
   "cell_type": "markdown",
   "metadata": {
    "id": "tZKadufhc2RL"
   },
   "source": [
    "#### Our RAG Chain\n",
    "\n",
    "Notice how we have a bit of a more complex chain this time - that's because we want to return our sources with the response.\n",
    "\n",
    "Let's break down the chain step-by-step:\n",
    "\n",
    "1. We invoke the chain with the `question` item. Notice how we only need to provide `question` since both the retreiver and the `\"question\"` object depend on it.\n",
    "  - We also chain our `\"question\"` into our `retriever`! This is what ultimately collects the context through Qdrant.\n",
    "2. We assign our collected context to a `RunnablePassthrough()` from the previous object. This is going to let us simply pass it through to the next step, but still allow us to run that section of the chain.\n",
    "3. We finally collect our response by chaining our prompt, which expects both a `\"question\"` and `\"context\"`, into our `llm`. We also, collect the `\"context\"` again so we can output it in the final response object.\n",
    "\n",
    "The key thing to keep in mind here is that we need to pass our context through *after* we've retrieved it - to populate the object in a way that doesn't require us to call it or try and use it for something else."
   ]
  },
  {
   "cell_type": "code",
   "metadata": {
    "id": "VnGthXpzzo-R",
    "ExecuteTime": {
     "end_time": "2025-01-28T15:55:18.122502Z",
     "start_time": "2025-01-28T15:55:18.119173Z"
    }
   },
   "source": [
    "from operator import itemgetter\n",
    "from langchain.schema.output_parser import StrOutputParser\n",
    "from langchain.schema.runnable import RunnablePassthrough\n",
    "\n",
    "retrieval_augmented_qa_chain = (\n",
    "    # INVOKE CHAIN WITH: {\"question\" : \"<<SOME USER QUESTION>>\"}\n",
    "    # \"question\" : populated by getting the value of the \"question\" key\n",
    "    # \"context\"  : populated by getting the value of the \"question\" key and chaining it into the base_retriever\n",
    "    {\"context\": itemgetter(\"question\") | qdrant_retriever, \"question\": itemgetter(\"question\")}\n",
    "    # \"context\"  : is assigned to a RunnablePassthrough object (will not be called or considered in the next step)\n",
    "    #              by getting the value of the \"context\" key from the previous step\n",
    "    | RunnablePassthrough.assign(context=itemgetter(\"context\"))\n",
    "    # \"response\" : the \"context\" and \"question\" values are used to format our prompt object and then piped\n",
    "    #              into the LLM and stored in a key called \"response\"\n",
    "    # \"context\"  : populated by getting the value of the \"context\" key from the previous step\n",
    "    | {\"response\": base_rag_prompt | base_llm, \"context\": itemgetter(\"context\")}\n",
    ")"
   ],
   "outputs": [],
   "execution_count": 13
  },
  {
   "cell_type": "markdown",
   "metadata": {
    "id": "h0KAPrtFMtRd"
   },
   "source": [
    "Let's get a visual understanding of our chain!"
   ]
  },
  {
   "cell_type": "code",
   "metadata": {
    "colab": {
     "base_uri": "https://localhost:8080/"
    },
    "id": "ceq3JfVLM74-",
    "outputId": "4235f7af-4430-4c08-d94d-99e482ef30af",
    "ExecuteTime": {
     "end_time": "2025-01-28T15:55:28.445280Z",
     "start_time": "2025-01-28T15:55:27.131497Z"
    }
   },
   "source": [
    "!pip install -qU grandalf"
   ],
   "outputs": [],
   "execution_count": 14
  },
  {
   "cell_type": "code",
   "metadata": {
    "colab": {
     "base_uri": "https://localhost:8080/"
    },
    "id": "y8ocIXNGMsue",
    "outputId": "eb34fc03-7052-4825-82e1-85489ac84e78",
    "ExecuteTime": {
     "end_time": "2025-01-28T15:56:49.533328Z",
     "start_time": "2025-01-28T15:56:49.506289Z"
    }
   },
   "source": "print(retrieval_augmented_qa_chain.get_graph().draw_ascii())",
   "outputs": [
    {
     "name": "stdout",
     "output_type": "stream",
     "text": [
      "          +---------------------------------+      \n",
      "          | Parallel<context,question>Input |      \n",
      "          +---------------------------------+      \n",
      "                    **            **               \n",
      "                  **                **             \n",
      "                **                    **           \n",
      "         +--------+                     **         \n",
      "         | Lambda |                      *         \n",
      "         +--------+                      *         \n",
      "              *                          *         \n",
      "              *                          *         \n",
      "              *                          *         \n",
      "  +----------------------+          +--------+     \n",
      "  | VectorStoreRetriever |          | Lambda |     \n",
      "  +----------------------+          +--------+     \n",
      "                    **            **               \n",
      "                      **        **                 \n",
      "                        **    **                   \n",
      "          +----------------------------------+     \n",
      "          | Parallel<context,question>Output |     \n",
      "          +----------------------------------+     \n",
      "                            *                      \n",
      "                            *                      \n",
      "                            *                      \n",
      "              +------------------------+           \n",
      "              | Parallel<context>Input |           \n",
      "              +------------------------+           \n",
      "                     ***        ***                \n",
      "                    *              *               \n",
      "                  **                **             \n",
      "           +--------+          +-------------+     \n",
      "           | Lambda |          | Passthrough |     \n",
      "           +--------+          +-------------+     \n",
      "                     ***        ***                \n",
      "                        *      *                   \n",
      "                         **  **                    \n",
      "              +-------------------------+          \n",
      "              | Parallel<context>Output |          \n",
      "              +-------------------------+          \n",
      "                            *                      \n",
      "                            *                      \n",
      "                            *                      \n",
      "          +---------------------------------+      \n",
      "          | Parallel<response,context>Input |      \n",
      "          +---------------------------------+      \n",
      "                   **              ***             \n",
      "                ***                   **           \n",
      "              **                        ***        \n",
      "+--------------------+                     **      \n",
      "| ChatPromptTemplate |                      *      \n",
      "+--------------------+                      *      \n",
      "           *                                *      \n",
      "           *                                *      \n",
      "           *                                *      \n",
      "    +------------+                     +--------+  \n",
      "    | ChatOpenAI |                     | Lambda |  \n",
      "    +------------+*                  **+--------+  \n",
      "                   **              **              \n",
      "                     ***        ***                \n",
      "                        **    **                   \n",
      "          +----------------------------------+     \n",
      "          | Parallel<response,context>Output |     \n",
      "          +----------------------------------+     \n"
     ]
    }
   ],
   "execution_count": 17
  },
  {
   "cell_type": "markdown",
   "metadata": {
    "id": "1bQVzN_eX1M2"
   },
   "source": [
    "Let's try another visual representation:\n",
    "\n",
    "![image](https://i.imgur.com/Ad31AhL.png)"
   ]
  },
  {
   "cell_type": "markdown",
   "metadata": {
    "id": "_0C5CFRHOxtB"
   },
   "source": [
    "Let's test our chain out!"
   ]
  },
  {
   "cell_type": "code",
   "metadata": {
    "id": "JSDyVefDaue4",
    "ExecuteTime": {
     "end_time": "2025-01-28T16:02:02.210179Z",
     "start_time": "2025-01-28T16:01:59.607290Z"
    }
   },
   "source": [
    "response = retrieval_augmented_qa_chain.invoke({\"question\" : \"What's new in LangChain v0.2?\"})"
   ],
   "outputs": [],
   "execution_count": 18
  },
  {
   "cell_type": "code",
   "metadata": {
    "colab": {
     "base_uri": "https://localhost:8080/",
     "height": 248
    },
    "id": "yfEAoG3HLC3J",
    "outputId": "e1633e4f-5405-46c3-f344-ffc324ac69d8",
    "ExecuteTime": {
     "end_time": "2025-01-28T16:02:04.366087Z",
     "start_time": "2025-01-28T16:02:04.362732Z"
    }
   },
   "source": [
    "response[\"response\"].content"
   ],
   "outputs": [
    {
     "data": {
      "text/plain": [
       "'LangChain v0.2 brings several improvements, including:\\n\\n- A full separation of langchain and langchain-community.\\n- New (and versioned) documentation.\\n- A more mature and controllable agent framework.\\n- Improved LLM interface standardization, particularly around tool calling.\\n- Streaming support.\\n- Over 30 new partner packages.\\n\\nThis release focuses on stability and incorporates community feedback.'"
      ]
     },
     "execution_count": 19,
     "metadata": {},
     "output_type": "execute_result"
    }
   ],
   "execution_count": 19
  },
  {
   "cell_type": "code",
   "metadata": {
    "id": "FSZFdCM5LFoq",
    "ExecuteTime": {
     "end_time": "2025-01-28T16:02:17.384857Z",
     "start_time": "2025-01-28T16:02:17.382787Z"
    }
   },
   "source": [
    "for context in response[\"context\"]:\n",
    "  print(\"Context:\")\n",
    "  print(context)\n",
    "  print(\"----\")"
   ],
   "outputs": [
    {
     "name": "stdout",
     "output_type": "stream",
     "text": [
      "Context:\n",
      "page_content='Four months ago, we released the first stable version of LangChain. Today, we are following up by announcing a pre-release of langchain v0.2.This release builds upon the foundation laid in v0.1 and incorporates community feedback. We’re excited to share that v0.2 brings: A much-desired full separation of langchain and langchain-community New (and versioned!) docs A more mature and controllable agent framework Improved LLM interface standardization, particularly around tool callingBetter' metadata={'source': 'https://blog.langchain.dev/langchain-v02-leap-to-stability/', 'loc': 'https://blog.langchain.dev/langchain-v02-leap-to-stability/', 'lastmod': '2024-05-16T22:26:07.000Z', '_id': 'a0cb197701694aa9bb5eb3f14e217b71', '_collection_name': '96a4193b457e4adfaa84c05e9b3b468d'}\n",
      "----\n",
      "Context:\n",
      "page_content='LangChain v0.2: A Leap Towards Stability\n",
      "\n",
      "\n",
      "\n",
      "\n",
      "\n",
      "\n",
      "\n",
      "\n",
      "\n",
      "\n",
      "\n",
      "\n",
      "\n",
      "\n",
      "\n",
      "\n",
      "\n",
      "\n",
      "\n",
      "\n",
      "\n",
      "\n",
      "\n",
      "\n",
      "\n",
      "\n",
      "\n",
      "\n",
      "\n",
      "\n",
      "\n",
      "\n",
      "\n",
      "\n",
      "\n",
      "\n",
      "\n",
      "\n",
      "\n",
      "\n",
      "\n",
      "\n",
      "\n",
      "\n",
      "\n",
      "\n",
      "\n",
      "\n",
      "\n",
      "\n",
      "\n",
      "\n",
      "Skip to content\n",
      "\n",
      "\n",
      "\n",
      "\n",
      "\n",
      "\n",
      "\n",
      "\n",
      "\n",
      "\n",
      "\n",
      "\n",
      "\n",
      "\n",
      "\n",
      "\n",
      "Case Studies\n",
      "\n",
      "\n",
      "\n",
      "\n",
      "In the Loop\n",
      "\n",
      "\n",
      "\n",
      "\n",
      "LangChain\n",
      "\n",
      "\n",
      "\n",
      "\n",
      "Docs\n",
      "\n",
      "\n",
      "\n",
      "\n",
      "Changelog\n",
      "\n",
      "\n",
      "\n",
      "\n",
      "\n",
      "Sign in\n",
      "Subscribe\n",
      "\n",
      "\n",
      "\n",
      "\n",
      "\n",
      "\n",
      "\n",
      "\n",
      "\n",
      "\n",
      "\n",
      "\n",
      "\n",
      "\n",
      "\n",
      "\n",
      "\n",
      "\n",
      "\n",
      "LangChain v0.2: A Leap Towards Stability\n",
      "Today, we're announcing the pre-release of LangChain v0.2, which improves the stability and security of LangChain.\n",
      "\n",
      "5 min read\n",
      "May 10, 2024' metadata={'source': 'https://blog.langchain.dev/langchain-v02-leap-to-stability/', 'loc': 'https://blog.langchain.dev/langchain-v02-leap-to-stability/', 'lastmod': '2024-05-16T22:26:07.000Z', '_id': '09821487090543e992b82f299cf293ac', '_collection_name': '96a4193b457e4adfaa84c05e9b3b468d'}\n",
      "----\n",
      "Context:\n",
      "page_content='Announcing LangChain v0.3\n",
      "\n",
      "\n",
      "\n",
      "\n",
      "\n",
      "\n",
      "\n",
      "\n",
      "\n",
      "\n",
      "\n",
      "\n",
      "\n",
      "\n",
      "\n",
      "\n",
      "\n",
      "\n",
      "\n",
      "\n",
      "\n",
      "\n",
      "\n",
      "\n",
      "\n",
      "\n",
      "\n",
      "\n",
      "\n",
      "\n",
      "\n",
      "\n",
      "\n",
      "\n",
      "\n",
      "\n",
      "\n",
      "\n",
      "\n",
      "\n",
      "\n",
      "\n",
      "\n",
      "\n",
      "\n",
      "\n",
      "\n",
      "\n",
      "\n",
      "Skip to content\n",
      "\n",
      "\n",
      "\n",
      "\n",
      "\n",
      "\n",
      "\n",
      "\n",
      "\n",
      "\n",
      "\n",
      "\n",
      "\n",
      "\n",
      "\n",
      "\n",
      "Case Studies\n",
      "\n",
      "\n",
      "\n",
      "\n",
      "In the Loop\n",
      "\n",
      "\n",
      "\n",
      "\n",
      "LangChain\n",
      "\n",
      "\n",
      "\n",
      "\n",
      "Docs\n",
      "\n",
      "\n",
      "\n",
      "\n",
      "Changelog\n",
      "\n",
      "\n",
      "\n",
      "\n",
      "\n",
      "Sign in\n",
      "Subscribe\n",
      "\n",
      "\n",
      "\n",
      "\n",
      "\n",
      "\n",
      "\n",
      "\n",
      "\n",
      "\n",
      "\n",
      "\n",
      "\n",
      "\n",
      "\n",
      "\n",
      "\n",
      "\n",
      "\n",
      "Announcing LangChain v0.3\n",
      "\n",
      "2 min read\n",
      "Sep 16, 2024' metadata={'source': 'https://blog.langchain.dev/announcing-langchain-v0-3/', 'loc': 'https://blog.langchain.dev/announcing-langchain-v0-3/', 'lastmod': '2024-10-09T20:00:12.000Z', '_id': '213dbb4d71d54f7f8bafb6af7f6d5772', '_collection_name': '96a4193b457e4adfaa84c05e9b3b468d'}\n",
      "----\n",
      "Context:\n",
      "page_content='streaming support30+ new partner packages.This is just a pre-release, with the full v0.2 release coming in a few weeks. Let’s dive into what langchain v0.2 will include.Embracing stability: The evolution of LangChain architectureOne of the most notable changes in langchain v0.2 is the decoupling of the langchain package from langchain-community. As a result, langchain-community now depends on langchain-core and langchain. This is a continuation of the work we began with langchain v0.1.0 to' metadata={'source': 'https://blog.langchain.dev/langchain-v02-leap-to-stability/', 'loc': 'https://blog.langchain.dev/langchain-v02-leap-to-stability/', 'lastmod': '2024-05-16T22:26:07.000Z', '_id': '193cb64056c64a228384af22a474c5f1', '_collection_name': '96a4193b457e4adfaa84c05e9b3b468d'}\n",
      "----\n"
     ]
    }
   ],
   "execution_count": 20
  },
  {
   "cell_type": "markdown",
   "metadata": {
    "id": "nagiJ6l6noPL"
   },
   "source": [
    "Let's see if it can handle a query that is totally unrelated to the source documents."
   ]
  },
  {
   "cell_type": "code",
   "metadata": {
    "id": "HOd2nJKZnsty",
    "ExecuteTime": {
     "end_time": "2025-01-28T16:02:55.964015Z",
     "start_time": "2025-01-28T16:02:53.310083Z"
    }
   },
   "source": [
    "response = retrieval_augmented_qa_chain.invoke({\"question\" : \"What is the airspeed velocity of an unladen swallow?\"})"
   ],
   "outputs": [],
   "execution_count": 21
  },
  {
   "cell_type": "code",
   "metadata": {
    "colab": {
     "base_uri": "https://localhost:8080/",
     "height": 195
    },
    "id": "TmLCKNGZLTh6",
    "outputId": "1478d061-7129-4b14-c717-c99d130a9488",
    "ExecuteTime": {
     "end_time": "2025-01-28T16:02:58.426913Z",
     "start_time": "2025-01-28T16:02:58.424358Z"
    }
   },
   "source": [
    "response[\"response\"].content"
   ],
   "outputs": [
    {
     "data": {
      "text/plain": [
       "\"I don't know.\""
      ]
     },
     "execution_count": 22,
     "metadata": {},
     "output_type": "execute_result"
    }
   ],
   "execution_count": 22
  },
  {
   "cell_type": "markdown",
   "metadata": {
    "id": "fJtSdDsXZXam"
   },
   "source": [
    "## Task 3: Setting Up LangSmith\n",
    "\n",
    "Now that we have a chain - we're ready to get started with LangSmith!\n",
    "\n",
    "We're going to go ahead and use the following `env` variables to get our Colab notebook set up to start reporting.\n",
    "\n",
    "If all you needed was simple monitoring - this is all you would need to do!"
   ]
  },
  {
   "cell_type": "code",
   "metadata": {
    "id": "iqPdBXSBD4a-",
    "ExecuteTime": {
     "end_time": "2025-01-28T19:52:39.374948Z",
     "start_time": "2025-01-28T19:52:39.372377Z"
    }
   },
   "source": [
    "from uuid import uuid4\n",
    "\n",
    "unique_id = uuid4().hex[0:8]\n",
    "\n",
    "print(unique_id)\n",
    "\n",
    "os.environ[\"LANGSMITH_TRACING\"] = \"true\"\n",
    "os.environ[\"LANGSMITH_ENDPOINT\"] = \"https://api.smith.langchain.com\"\n",
    "os.environ[\"LANGSMITH_PROJECT\"] = \"langsmith-smajeti-test\""
   ],
   "outputs": [
    {
     "name": "stdout",
     "output_type": "stream",
     "text": [
      "1fec5dcd\n"
     ]
    }
   ],
   "execution_count": 33
  },
  {
   "cell_type": "markdown",
   "metadata": {
    "id": "Ms4msyKLaIr6"
   },
   "source": [
    "### LangSmith API\n",
    "\n",
    "In order to use LangSmith - you will need a beta key, you can join the queue through the `Beta Sign Up` button on LangSmith's homepage!\n",
    "\n",
    "Join [here](https://www.langchain.com/langsmith)"
   ]
  },
  {
   "cell_type": "code",
   "metadata": {
    "colab": {
     "base_uri": "https://localhost:8080/"
    },
    "id": "MVq1EYngEMhV",
    "outputId": "5560a787-8114-4c72-b95a-6a776043427a",
    "ExecuteTime": {
     "end_time": "2025-01-28T19:54:18.107108Z",
     "start_time": "2025-01-28T19:54:16.632610Z"
    }
   },
   "source": "os.environ[\"LANGSMITH_API_KEY\"] = getpass.getpass('Enter your LangSmith API key: ')",
   "outputs": [],
   "execution_count": 36
  },
  {
   "cell_type": "markdown",
   "metadata": {
    "id": "6qy0MMBLacXv"
   },
   "source": [
    "Let's test our our first generation!"
   ]
  },
  {
   "cell_type": "code",
   "metadata": {
    "colab": {
     "base_uri": "https://localhost:8080/"
    },
    "id": "3eoqBtBQERXP",
    "outputId": "fc1ea857-6784-4e7e-9fd4-94fbdd9f693a",
    "ExecuteTime": {
     "end_time": "2025-01-28T19:54:28.555124Z",
     "start_time": "2025-01-28T19:54:25.676038Z"
    }
   },
   "source": [
    "retrieval_augmented_qa_chain.invoke({\"question\" : \"What is LangSmith?\"}, {\"tags\" : [\"Demo Run\"]})['response']"
   ],
   "outputs": [
    {
     "data": {
      "text/plain": [
       "AIMessage(content='LangSmith is a framework built on the shoulders of LangChain, designed to track the decision-making processes of AI systems. It offers features such as a sleek user interface and extensive capabilities, but it is particularly noted for its SDK, which provides fine-grain controls and customizability for developers. LangSmith aids in improving observability within the development lifecycle and facilitates rapid iteration in development, making processes like in-text source citation much more efficient.', additional_kwargs={'refusal': None}, response_metadata={'token_usage': {'completion_tokens': 89, 'prompt_tokens': 936, 'total_tokens': 1025, 'completion_tokens_details': {'accepted_prediction_tokens': 0, 'audio_tokens': 0, 'reasoning_tokens': 0, 'rejected_prediction_tokens': 0}, 'prompt_tokens_details': {'audio_tokens': 0, 'cached_tokens': 0}}, 'model_name': 'gpt-4o-mini-2024-07-18', 'system_fingerprint': 'fp_bd83329f63', 'finish_reason': 'stop', 'logprobs': None}, id='run-fe41b804-9881-4d91-8141-34d9b69f7b08-0', usage_metadata={'input_tokens': 936, 'output_tokens': 89, 'total_tokens': 1025, 'input_token_details': {'audio': 0, 'cache_read': 0}, 'output_token_details': {'audio': 0, 'reasoning': 0}})"
      ]
     },
     "execution_count": 37,
     "metadata": {},
     "output_type": "execute_result"
    }
   ],
   "execution_count": 37
  },
  {
   "cell_type": "markdown",
   "metadata": {
    "id": "oZxABFzPr2ny"
   },
   "source": [
    "## Task 4: Examining the Trace in LangSmith!\n",
    "\n",
    "Head on over to your LangSmith web UI to check out how the trace looks in LangSmith!"
   ]
  },
  {
   "cell_type": "markdown",
   "metadata": {
    "id": "c52o58AfsLK6"
   },
   "source": [
    "#### 🏗️ Activity #1:\n",
    "\n"
   ]
  },
  {
   "cell_type": "markdown",
   "metadata": {
    "id": "fLxh0-thanXt"
   },
   "source": [
    "## Task 5: Loading Our Testing Set"
   ]
  },
  {
   "cell_type": "code",
   "metadata": {
    "colab": {
     "base_uri": "https://localhost:8080/"
    },
    "id": "lsJ8uCbT7S1Z",
    "outputId": "cdcbe030-aae2-46da-8cb7-30811da9f87d",
    "ExecuteTime": {
     "end_time": "2025-01-28T19:55:26.394365Z",
     "start_time": "2025-01-28T19:55:18.706122Z"
    }
   },
   "source": [
    "!git clone https://github.com/AI-Maker-Space/DataRepository.git"
   ],
   "outputs": [
    {
     "name": "stdout",
     "output_type": "stream",
     "text": [
      "Cloning into 'DataRepository'...\r\n",
      "remote: Enumerating objects: 119, done.\u001B[K\r\n",
      "remote: Counting objects: 100% (111/111), done.\u001B[K\r\n",
      "remote: Compressing objects: 100% (96/96), done.\u001B[K\r\n",
      "remote: Total 119 (delta 36), reused 40 (delta 10), pack-reused 8 (from 1)\u001B[K\r\n",
      "Receiving objects: 100% (119/119), 78.04 MiB | 14.48 MiB/s, done.\r\n",
      "Resolving deltas: 100% (36/36), done.\r\n"
     ]
    }
   ],
   "execution_count": 38
  },
  {
   "cell_type": "code",
   "metadata": {
    "id": "w5fmy5Gy7X03",
    "ExecuteTime": {
     "end_time": "2025-01-28T19:56:48.023581Z",
     "start_time": "2025-01-28T19:56:42.068511Z"
    }
   },
   "source": [
    "import pandas as pd\n",
    "\n",
    "test_df = pd.read_csv(\"./DataRepository/langchain_blog_test_data.csv\")"
   ],
   "outputs": [],
   "execution_count": 42
  },
  {
   "cell_type": "markdown",
   "metadata": {
    "id": "nyBtPs7p9Mbz"
   },
   "source": [
    "Now we can set up our LangSmith client - and we'll add the above created dataset to our LangSmith instance!\n",
    "\n",
    "> NOTE: Read more about this process [here](https://docs.smith.langchain.com/old/evaluation/faq/manage-datasets#create-from-list-of-values)"
   ]
  },
  {
   "cell_type": "code",
   "metadata": {
    "id": "T9exE2e6F3gF",
    "ExecuteTime": {
     "end_time": "2025-01-28T19:57:12.086185Z",
     "start_time": "2025-01-28T19:56:53.579901Z"
    }
   },
   "source": [
    "from langsmith import Client\n",
    "\n",
    "client = Client()\n",
    "\n",
    "dataset_name = \"langsmith-demo-dataset-aie4-triples-v3\"\n",
    "\n",
    "dataset = client.create_dataset(\n",
    "    dataset_name=dataset_name, description=\"LangChain Blog Test Questions\"\n",
    ")\n",
    "\n",
    "for triplet in test_df.iterrows():\n",
    "  triplet = triplet[1]\n",
    "  client.create_example(\n",
    "      inputs={\"question\" : triplet[\"question\"], \"context\": triplet[\"context\"]},\n",
    "      outputs={\"answer\" : triplet[\"answer\"]},\n",
    "      dataset_id=dataset.id\n",
    "  )"
   ],
   "outputs": [],
   "execution_count": 43
  },
  {
   "cell_type": "markdown",
   "metadata": {
    "id": "QXgi14vSbFIc"
   },
   "source": [
    "## Task 6: Evaluation\n",
    "\n",
    "Now we can run the evaluation!\n",
    "\n",
    "We'll need to start by preparing some custom data preparation functions to ensure our chain works with the expected inputs/outputs from the `evaluate` process in LangSmith.\n",
    "\n",
    "> NOTE: More reading on this available [here](https://docs.smith.langchain.com/how_to_guides/evaluation/evaluate_llm_application#evaluate-a-langchain-runnable)"
   ]
  },
  {
   "cell_type": "code",
   "metadata": {
    "id": "fbjnv3bMwQKg",
    "ExecuteTime": {
     "end_time": "2025-01-28T19:57:16.964076Z",
     "start_time": "2025-01-28T19:57:16.961700Z"
    }
   },
   "source": [
    "def prepare_data_ref(run, example):\n",
    "  return {\n",
    "      \"prediction\" : run.outputs[\"response\"],\n",
    "      \"reference\" : example.outputs[\"answer\"],\n",
    "      \"input\" : example.inputs[\"question\"]\n",
    "  }\n",
    "\n",
    "def prepare_data_noref(run, example):\n",
    "  return {\n",
    "      \"prediction\" : run.outputs[\"response\"],\n",
    "      \"input\" : example.inputs[\"question\"]\n",
    "  }\n",
    "\n",
    "def prepare_context_ref(run, example):\n",
    "  return {\n",
    "      \"prediction\" : run.outputs[\"response\"],\n",
    "      \"reference\" : example.inputs[\"context\"],\n",
    "      \"input\" : example.inputs[\"question\"]\n",
    "  }"
   ],
   "outputs": [],
   "execution_count": 44
  },
  {
   "cell_type": "markdown",
   "metadata": {
    "id": "OuwnMdtl9nwz"
   },
   "source": [
    "We'll be using a few custom evaluators to evaluate our pipeline, as well as a few \"built in\" methods!\n",
    "\n",
    "Check out the built-ins [here](https://docs.smith.langchain.com/reference/sdk_reference/langchain_evaluators)!"
   ]
  },
  {
   "cell_type": "code",
   "metadata": {
    "colab": {
     "base_uri": "https://localhost:8080/",
     "height": 140,
     "referenced_widgets": [
      "501c5e204387460e8e9a585c9b2ca834",
      "323a077888c84bdfbac393d1ebef9d6c",
      "710fe93f3241401bafa10a1e0a1bda02",
      "c65a6921701742da9b67c591b19b6336",
      "17d4193e78a14050a11c5f8306b3ba0b",
      "99751d16888640078ae4820cacab5760",
      "a8f5f4beaa8f4a3b94002c5ed122c2a7",
      "54e7ccad2e774261a3313316a1397f66",
      "41e287b8dc674f839b6485c9606207d5",
      "f7457f38948d472da4027ba1566b47e4",
      "af61b863014d4a8c960570de31a02b3f"
     ]
    },
    "id": "CENtd4K_IQa3",
    "outputId": "872581e4-9c21-414f-d25e-9454c47c0587",
    "jupyter": {
     "is_executing": true
    },
    "ExecuteTime": {
     "start_time": "2025-01-28T19:57:22.639959Z"
    }
   },
   "source": [
    "from langsmith.evaluation import LangChainStringEvaluator, evaluate\n",
    "\n",
    "eval_llm = ChatOpenAI(model=\"gpt-4o-mini\", tags=[\"eval_llm\"])\n",
    "\n",
    "cot_qa_evaluator = LangChainStringEvaluator(\"cot_qa\",  config={\"llm\":eval_llm}, prepare_data=prepare_context_ref)\n",
    "\n",
    "unlabeled_dopeness_evaluator = LangChainStringEvaluator(\n",
    "    \"criteria\",\n",
    "    config={\n",
    "        \"criteria\" : {\n",
    "            \"dopeness\" : \"Is the answer to the question dope, meaning cool - awesome - and legit?\"\n",
    "        },\n",
    "        \"llm\" : eval_llm,\n",
    "    },\n",
    "    prepare_data=prepare_data_noref\n",
    ")\n",
    "\n",
    "labeled_score_evaluator = LangChainStringEvaluator(\n",
    "    \"labeled_score_string\",\n",
    "    config={\n",
    "        \"criteria\": {\n",
    "            \"accuracy\": \"Is the generated answer the same as the reference answer?\"\n",
    "        },\n",
    "    },\n",
    "    prepare_data=prepare_data_ref\n",
    ")\n",
    "\n",
    "base_rag_results = evaluate(\n",
    "    retrieval_augmented_qa_chain.invoke,\n",
    "    data=dataset_name,\n",
    "    evaluators=[\n",
    "        cot_qa_evaluator,\n",
    "        unlabeled_dopeness_evaluator,\n",
    "        labeled_score_evaluator,\n",
    "        ],\n",
    "    experiment_prefix=\"Base RAG Evaluation\"\n",
    ")"
   ],
   "outputs": [
    {
     "name": "stderr",
     "output_type": "stream",
     "text": [
      "/Users/smajeti/aim/bootcamp/ai-smajeti/04_Production_RAG/.venv/lib/python3.13/site-packages/tqdm/auto.py:21: TqdmWarning: IProgress not found. Please update jupyter and ipywidgets. See https://ipywidgets.readthedocs.io/en/stable/user_install.html\n",
      "  from .autonotebook import tqdm as notebook_tqdm\n"
     ]
    },
    {
     "name": "stdout",
     "output_type": "stream",
     "text": [
      "View the evaluation results for experiment: 'Base RAG Evaluation-f1d86768' at:\n",
      "https://smith.langchain.com/o/6e74fdc3-b43a-4712-ba75-d5b5d323d26b/datasets/26498312-f101-4498-bc1b-3b8e902a8676/compare?selectedSessions=c0b4d1e3-008f-49cc-a079-fa6674c36459\n",
      "\n",
      "\n"
     ]
    },
    {
     "name": "stderr",
     "output_type": "stream",
     "text": [
      "0it [00:00, ?it/s]Error running evaluator <DynamicRunEvaluator evaluate> on run 61d58bc2-b672-416d-9a32-dfd5f5df5adf: PermissionDeniedError(\"Error code: 403 - {'error': {'message': 'Project `proj_OKDIGt0yUnIkHEhADIzOPlXF` does not have access to model `gpt-4`', 'type': 'invalid_request_error', 'param': None, 'code': 'model_not_found'}}\")\n",
      "Traceback (most recent call last):\n",
      "  File \"/Users/smajeti/aim/bootcamp/ai-smajeti/04_Production_RAG/.venv/lib/python3.13/site-packages/langsmith/evaluation/_runner.py\", line 1635, in _run_evaluators\n",
      "    evaluator_response = evaluator.evaluate_run(\n",
      "        run=run,\n",
      "        example=example,\n",
      "    )\n",
      "  File \"/Users/smajeti/aim/bootcamp/ai-smajeti/04_Production_RAG/.venv/lib/python3.13/site-packages/langsmith/evaluation/evaluator.py\", line 331, in evaluate_run\n",
      "    result = self.func(\n",
      "        run,\n",
      "        example,\n",
      "        langsmith_extra={\"run_id\": source_run_id, \"metadata\": metadata},\n",
      "    )\n",
      "  File \"/Users/smajeti/aim/bootcamp/ai-smajeti/04_Production_RAG/.venv/lib/python3.13/site-packages/langsmith/run_helpers.py\", line 629, in wrapper\n",
      "    raise e\n",
      "  File \"/Users/smajeti/aim/bootcamp/ai-smajeti/04_Production_RAG/.venv/lib/python3.13/site-packages/langsmith/run_helpers.py\", line 626, in wrapper\n",
      "    function_result = run_container[\"context\"].run(func, *args, **kwargs)\n",
      "  File \"/Users/smajeti/aim/bootcamp/ai-smajeti/04_Production_RAG/.venv/lib/python3.13/site-packages/langsmith/evaluation/integrations/_langchain.py\", line 260, in evaluate\n",
      "    results = self.evaluator.evaluate_strings(**eval_inputs)\n",
      "  File \"/Users/smajeti/aim/bootcamp/ai-smajeti/04_Production_RAG/.venv/lib/python3.13/site-packages/langchain/evaluation/schema.py\", line 220, in evaluate_strings\n",
      "    return self._evaluate_strings(\n",
      "           ~~~~~~~~~~~~~~~~~~~~~~^\n",
      "        prediction=prediction, reference=reference, input=input, **kwargs\n",
      "        ^^^^^^^^^^^^^^^^^^^^^^^^^^^^^^^^^^^^^^^^^^^^^^^^^^^^^^^^^^^^^^^^^\n",
      "    )\n",
      "    ^\n",
      "  File \"/Users/smajeti/aim/bootcamp/ai-smajeti/04_Production_RAG/.venv/lib/python3.13/site-packages/langchain/evaluation/scoring/eval_chain.py\", line 352, in _evaluate_strings\n",
      "    result = self(\n",
      "        inputs=input_,\n",
      "    ...<3 lines>...\n",
      "        include_run_info=include_run_info,\n",
      "    )\n",
      "  File \"/Users/smajeti/aim/bootcamp/ai-smajeti/04_Production_RAG/.venv/lib/python3.13/site-packages/langchain_core/_api/deprecation.py\", line 182, in warning_emitting_wrapper\n",
      "    return wrapped(*args, **kwargs)\n",
      "  File \"/Users/smajeti/aim/bootcamp/ai-smajeti/04_Production_RAG/.venv/lib/python3.13/site-packages/langchain/chains/base.py\", line 389, in __call__\n",
      "    return self.invoke(\n",
      "           ~~~~~~~~~~~^\n",
      "        inputs,\n",
      "        ^^^^^^^\n",
      "    ...<2 lines>...\n",
      "        include_run_info=include_run_info,\n",
      "        ^^^^^^^^^^^^^^^^^^^^^^^^^^^^^^^^^^\n",
      "    )\n",
      "    ^\n",
      "  File \"/Users/smajeti/aim/bootcamp/ai-smajeti/04_Production_RAG/.venv/lib/python3.13/site-packages/langchain/chains/base.py\", line 170, in invoke\n",
      "    raise e\n",
      "  File \"/Users/smajeti/aim/bootcamp/ai-smajeti/04_Production_RAG/.venv/lib/python3.13/site-packages/langchain/chains/base.py\", line 160, in invoke\n",
      "    self._call(inputs, run_manager=run_manager)\n",
      "    ~~~~~~~~~~^^^^^^^^^^^^^^^^^^^^^^^^^^^^^^^^^\n",
      "  File \"/Users/smajeti/aim/bootcamp/ai-smajeti/04_Production_RAG/.venv/lib/python3.13/site-packages/langchain/chains/llm.py\", line 126, in _call\n",
      "    response = self.generate([inputs], run_manager=run_manager)\n",
      "  File \"/Users/smajeti/aim/bootcamp/ai-smajeti/04_Production_RAG/.venv/lib/python3.13/site-packages/langchain/chains/llm.py\", line 138, in generate\n",
      "    return self.llm.generate_prompt(\n",
      "           ~~~~~~~~~~~~~~~~~~~~~~~~^\n",
      "        prompts,\n",
      "        ^^^^^^^^\n",
      "    ...<2 lines>...\n",
      "        **self.llm_kwargs,\n",
      "        ^^^^^^^^^^^^^^^^^^\n",
      "    )\n",
      "    ^\n",
      "  File \"/Users/smajeti/aim/bootcamp/ai-smajeti/04_Production_RAG/.venv/lib/python3.13/site-packages/langchain_core/language_models/chat_models.py\", line 790, in generate_prompt\n",
      "    return self.generate(prompt_messages, stop=stop, callbacks=callbacks, **kwargs)\n",
      "           ~~~~~~~~~~~~~^^^^^^^^^^^^^^^^^^^^^^^^^^^^^^^^^^^^^^^^^^^^^^^^^^^^^^^^^^^\n",
      "  File \"/Users/smajeti/aim/bootcamp/ai-smajeti/04_Production_RAG/.venv/lib/python3.13/site-packages/langchain_core/language_models/chat_models.py\", line 647, in generate\n",
      "    raise e\n",
      "  File \"/Users/smajeti/aim/bootcamp/ai-smajeti/04_Production_RAG/.venv/lib/python3.13/site-packages/langchain_core/language_models/chat_models.py\", line 637, in generate\n",
      "    self._generate_with_cache(\n",
      "    ~~~~~~~~~~~~~~~~~~~~~~~~~^\n",
      "        m,\n",
      "        ^^\n",
      "    ...<2 lines>...\n",
      "        **kwargs,\n",
      "        ^^^^^^^^^\n",
      "    )\n",
      "    ^\n",
      "  File \"/Users/smajeti/aim/bootcamp/ai-smajeti/04_Production_RAG/.venv/lib/python3.13/site-packages/langchain_core/language_models/chat_models.py\", line 855, in _generate_with_cache\n",
      "    result = self._generate(\n",
      "        messages, stop=stop, run_manager=run_manager, **kwargs\n",
      "    )\n",
      "  File \"/Users/smajeti/aim/bootcamp/ai-smajeti/04_Production_RAG/.venv/lib/python3.13/site-packages/langchain_openai/chat_models/base.py\", line 790, in _generate\n",
      "    response = self.client.create(**payload)\n",
      "  File \"/Users/smajeti/aim/bootcamp/ai-smajeti/04_Production_RAG/.venv/lib/python3.13/site-packages/openai/_utils/_utils.py\", line 279, in wrapper\n",
      "    return func(*args, **kwargs)\n",
      "  File \"/Users/smajeti/aim/bootcamp/ai-smajeti/04_Production_RAG/.venv/lib/python3.13/site-packages/openai/resources/chat/completions.py\", line 850, in create\n",
      "    return self._post(\n",
      "           ~~~~~~~~~~^\n",
      "        \"/chat/completions\",\n",
      "        ^^^^^^^^^^^^^^^^^^^^\n",
      "    ...<40 lines>...\n",
      "        stream_cls=Stream[ChatCompletionChunk],\n",
      "        ^^^^^^^^^^^^^^^^^^^^^^^^^^^^^^^^^^^^^^^\n",
      "    )\n",
      "    ^\n",
      "  File \"/Users/smajeti/aim/bootcamp/ai-smajeti/04_Production_RAG/.venv/lib/python3.13/site-packages/openai/_base_client.py\", line 1283, in post\n",
      "    return cast(ResponseT, self.request(cast_to, opts, stream=stream, stream_cls=stream_cls))\n",
      "                           ~~~~~~~~~~~~^^^^^^^^^^^^^^^^^^^^^^^^^^^^^^^^^^^^^^^^^^^^^^^^^^^^^\n",
      "  File \"/Users/smajeti/aim/bootcamp/ai-smajeti/04_Production_RAG/.venv/lib/python3.13/site-packages/openai/_base_client.py\", line 960, in request\n",
      "    return self._request(\n",
      "           ~~~~~~~~~~~~~^\n",
      "        cast_to=cast_to,\n",
      "        ^^^^^^^^^^^^^^^^\n",
      "    ...<3 lines>...\n",
      "        retries_taken=retries_taken,\n",
      "        ^^^^^^^^^^^^^^^^^^^^^^^^^^^^\n",
      "    )\n",
      "    ^\n",
      "  File \"/Users/smajeti/aim/bootcamp/ai-smajeti/04_Production_RAG/.venv/lib/python3.13/site-packages/openai/_base_client.py\", line 1064, in _request\n",
      "    raise self._make_status_error_from_response(err.response) from None\n",
      "openai.PermissionDeniedError: Error code: 403 - {'error': {'message': 'Project `proj_OKDIGt0yUnIkHEhADIzOPlXF` does not have access to model `gpt-4`', 'type': 'invalid_request_error', 'param': None, 'code': 'model_not_found'}}\n",
      "1it [00:13, 13.05s/it]"
     ]
    }
   ],
   "execution_count": null
  },
  {
   "cell_type": "markdown",
   "metadata": {
    "id": "YPocfrNFiYWi"
   },
   "source": [
    "#### ❓Question #1:\n",
    "\n",
    "What conclusions can you draw about the above results?\n",
    "\n",
    "Describe in your own words what the metrics are expressing."
   ]
  }
 ],
 "metadata": {
  "colab": {
   "provenance": []
  },
  "kernelspec": {
   "display_name": "Python 3 (ipykernel)",
   "name": "python3",
   "language": "python"
  },
  "language_info": {
   "name": "python"
  },
  "widgets": {
   "application/vnd.jupyter.widget-state+json": {
    "17d4193e78a14050a11c5f8306b3ba0b": {
     "model_module": "@jupyter-widgets/base",
     "model_module_version": "1.2.0",
     "model_name": "LayoutModel",
     "state": {
      "_model_module": "@jupyter-widgets/base",
      "_model_module_version": "1.2.0",
      "_model_name": "LayoutModel",
      "_view_count": null,
      "_view_module": "@jupyter-widgets/base",
      "_view_module_version": "1.2.0",
      "_view_name": "LayoutView",
      "align_content": null,
      "align_items": null,
      "align_self": null,
      "border": null,
      "bottom": null,
      "display": null,
      "flex": null,
      "flex_flow": null,
      "grid_area": null,
      "grid_auto_columns": null,
      "grid_auto_flow": null,
      "grid_auto_rows": null,
      "grid_column": null,
      "grid_gap": null,
      "grid_row": null,
      "grid_template_areas": null,
      "grid_template_columns": null,
      "grid_template_rows": null,
      "height": null,
      "justify_content": null,
      "justify_items": null,
      "left": null,
      "margin": null,
      "max_height": null,
      "max_width": null,
      "min_height": null,
      "min_width": null,
      "object_fit": null,
      "object_position": null,
      "order": null,
      "overflow": null,
      "overflow_x": null,
      "overflow_y": null,
      "padding": null,
      "right": null,
      "top": null,
      "visibility": null,
      "width": null
     }
    },
    "323a077888c84bdfbac393d1ebef9d6c": {
     "model_module": "@jupyter-widgets/controls",
     "model_module_version": "1.5.0",
     "model_name": "HTMLModel",
     "state": {
      "_dom_classes": [],
      "_model_module": "@jupyter-widgets/controls",
      "_model_module_version": "1.5.0",
      "_model_name": "HTMLModel",
      "_view_count": null,
      "_view_module": "@jupyter-widgets/controls",
      "_view_module_version": "1.5.0",
      "_view_name": "HTMLView",
      "description": "",
      "description_tooltip": null,
      "layout": "IPY_MODEL_99751d16888640078ae4820cacab5760",
      "placeholder": "​",
      "style": "IPY_MODEL_a8f5f4beaa8f4a3b94002c5ed122c2a7",
      "value": ""
     }
    },
    "41e287b8dc674f839b6485c9606207d5": {
     "model_module": "@jupyter-widgets/controls",
     "model_module_version": "1.5.0",
     "model_name": "ProgressStyleModel",
     "state": {
      "_model_module": "@jupyter-widgets/controls",
      "_model_module_version": "1.5.0",
      "_model_name": "ProgressStyleModel",
      "_view_count": null,
      "_view_module": "@jupyter-widgets/base",
      "_view_module_version": "1.2.0",
      "_view_name": "StyleView",
      "bar_color": null,
      "description_width": ""
     }
    },
    "501c5e204387460e8e9a585c9b2ca834": {
     "model_module": "@jupyter-widgets/controls",
     "model_module_version": "1.5.0",
     "model_name": "HBoxModel",
     "state": {
      "_dom_classes": [],
      "_model_module": "@jupyter-widgets/controls",
      "_model_module_version": "1.5.0",
      "_model_name": "HBoxModel",
      "_view_count": null,
      "_view_module": "@jupyter-widgets/controls",
      "_view_module_version": "1.5.0",
      "_view_name": "HBoxView",
      "box_style": "",
      "children": [
       "IPY_MODEL_323a077888c84bdfbac393d1ebef9d6c",
       "IPY_MODEL_710fe93f3241401bafa10a1e0a1bda02",
       "IPY_MODEL_c65a6921701742da9b67c591b19b6336"
      ],
      "layout": "IPY_MODEL_17d4193e78a14050a11c5f8306b3ba0b"
     }
    },
    "54e7ccad2e774261a3313316a1397f66": {
     "model_module": "@jupyter-widgets/base",
     "model_module_version": "1.2.0",
     "model_name": "LayoutModel",
     "state": {
      "_model_module": "@jupyter-widgets/base",
      "_model_module_version": "1.2.0",
      "_model_name": "LayoutModel",
      "_view_count": null,
      "_view_module": "@jupyter-widgets/base",
      "_view_module_version": "1.2.0",
      "_view_name": "LayoutView",
      "align_content": null,
      "align_items": null,
      "align_self": null,
      "border": null,
      "bottom": null,
      "display": null,
      "flex": null,
      "flex_flow": null,
      "grid_area": null,
      "grid_auto_columns": null,
      "grid_auto_flow": null,
      "grid_auto_rows": null,
      "grid_column": null,
      "grid_gap": null,
      "grid_row": null,
      "grid_template_areas": null,
      "grid_template_columns": null,
      "grid_template_rows": null,
      "height": null,
      "justify_content": null,
      "justify_items": null,
      "left": null,
      "margin": null,
      "max_height": null,
      "max_width": null,
      "min_height": null,
      "min_width": null,
      "object_fit": null,
      "object_position": null,
      "order": null,
      "overflow": null,
      "overflow_x": null,
      "overflow_y": null,
      "padding": null,
      "right": null,
      "top": null,
      "visibility": null,
      "width": "20px"
     }
    },
    "710fe93f3241401bafa10a1e0a1bda02": {
     "model_module": "@jupyter-widgets/controls",
     "model_module_version": "1.5.0",
     "model_name": "FloatProgressModel",
     "state": {
      "_dom_classes": [],
      "_model_module": "@jupyter-widgets/controls",
      "_model_module_version": "1.5.0",
      "_model_name": "FloatProgressModel",
      "_view_count": null,
      "_view_module": "@jupyter-widgets/controls",
      "_view_module_version": "1.5.0",
      "_view_name": "ProgressView",
      "bar_style": "success",
      "description": "",
      "description_tooltip": null,
      "layout": "IPY_MODEL_54e7ccad2e774261a3313316a1397f66",
      "max": 1,
      "min": 0,
      "orientation": "horizontal",
      "style": "IPY_MODEL_41e287b8dc674f839b6485c9606207d5",
      "value": 1
     }
    },
    "99751d16888640078ae4820cacab5760": {
     "model_module": "@jupyter-widgets/base",
     "model_module_version": "1.2.0",
     "model_name": "LayoutModel",
     "state": {
      "_model_module": "@jupyter-widgets/base",
      "_model_module_version": "1.2.0",
      "_model_name": "LayoutModel",
      "_view_count": null,
      "_view_module": "@jupyter-widgets/base",
      "_view_module_version": "1.2.0",
      "_view_name": "LayoutView",
      "align_content": null,
      "align_items": null,
      "align_self": null,
      "border": null,
      "bottom": null,
      "display": null,
      "flex": null,
      "flex_flow": null,
      "grid_area": null,
      "grid_auto_columns": null,
      "grid_auto_flow": null,
      "grid_auto_rows": null,
      "grid_column": null,
      "grid_gap": null,
      "grid_row": null,
      "grid_template_areas": null,
      "grid_template_columns": null,
      "grid_template_rows": null,
      "height": null,
      "justify_content": null,
      "justify_items": null,
      "left": null,
      "margin": null,
      "max_height": null,
      "max_width": null,
      "min_height": null,
      "min_width": null,
      "object_fit": null,
      "object_position": null,
      "order": null,
      "overflow": null,
      "overflow_x": null,
      "overflow_y": null,
      "padding": null,
      "right": null,
      "top": null,
      "visibility": null,
      "width": null
     }
    },
    "a8f5f4beaa8f4a3b94002c5ed122c2a7": {
     "model_module": "@jupyter-widgets/controls",
     "model_module_version": "1.5.0",
     "model_name": "DescriptionStyleModel",
     "state": {
      "_model_module": "@jupyter-widgets/controls",
      "_model_module_version": "1.5.0",
      "_model_name": "DescriptionStyleModel",
      "_view_count": null,
      "_view_module": "@jupyter-widgets/base",
      "_view_module_version": "1.2.0",
      "_view_name": "StyleView",
      "description_width": ""
     }
    },
    "af61b863014d4a8c960570de31a02b3f": {
     "model_module": "@jupyter-widgets/controls",
     "model_module_version": "1.5.0",
     "model_name": "DescriptionStyleModel",
     "state": {
      "_model_module": "@jupyter-widgets/controls",
      "_model_module_version": "1.5.0",
      "_model_name": "DescriptionStyleModel",
      "_view_count": null,
      "_view_module": "@jupyter-widgets/base",
      "_view_module_version": "1.2.0",
      "_view_name": "StyleView",
      "description_width": ""
     }
    },
    "c65a6921701742da9b67c591b19b6336": {
     "model_module": "@jupyter-widgets/controls",
     "model_module_version": "1.5.0",
     "model_name": "HTMLModel",
     "state": {
      "_dom_classes": [],
      "_model_module": "@jupyter-widgets/controls",
      "_model_module_version": "1.5.0",
      "_model_name": "HTMLModel",
      "_view_count": null,
      "_view_module": "@jupyter-widgets/controls",
      "_view_module_version": "1.5.0",
      "_view_name": "HTMLView",
      "description": "",
      "description_tooltip": null,
      "layout": "IPY_MODEL_f7457f38948d472da4027ba1566b47e4",
      "placeholder": "​",
      "style": "IPY_MODEL_af61b863014d4a8c960570de31a02b3f",
      "value": " 23/? [02:10&lt;00:00,  5.36s/it]"
     }
    },
    "f7457f38948d472da4027ba1566b47e4": {
     "model_module": "@jupyter-widgets/base",
     "model_module_version": "1.2.0",
     "model_name": "LayoutModel",
     "state": {
      "_model_module": "@jupyter-widgets/base",
      "_model_module_version": "1.2.0",
      "_model_name": "LayoutModel",
      "_view_count": null,
      "_view_module": "@jupyter-widgets/base",
      "_view_module_version": "1.2.0",
      "_view_name": "LayoutView",
      "align_content": null,
      "align_items": null,
      "align_self": null,
      "border": null,
      "bottom": null,
      "display": null,
      "flex": null,
      "flex_flow": null,
      "grid_area": null,
      "grid_auto_columns": null,
      "grid_auto_flow": null,
      "grid_auto_rows": null,
      "grid_column": null,
      "grid_gap": null,
      "grid_row": null,
      "grid_template_areas": null,
      "grid_template_columns": null,
      "grid_template_rows": null,
      "height": null,
      "justify_content": null,
      "justify_items": null,
      "left": null,
      "margin": null,
      "max_height": null,
      "max_width": null,
      "min_height": null,
      "min_width": null,
      "object_fit": null,
      "object_position": null,
      "order": null,
      "overflow": null,
      "overflow_x": null,
      "overflow_y": null,
      "padding": null,
      "right": null,
      "top": null,
      "visibility": null,
      "width": null
     }
    }
   }
  }
 },
 "nbformat": 4,
 "nbformat_minor": 0
}
